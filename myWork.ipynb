{
 "cells": [
  {
   "cell_type": "code",
   "execution_count": 1,
   "id": "6bf36293",
   "metadata": {},
   "outputs": [],
   "source": [
    "# pip install Selenium"
   ]
  },
  {
   "cell_type": "code",
   "execution_count": 2,
   "id": "36e5fa23",
   "metadata": {},
   "outputs": [],
   "source": [
    "from selenium import webdriver\n",
    "from selenium.webdriver.chrome.service import Service\n",
    "from selenium.webdriver.common.by import By\n",
    "from bs4 import BeautifulSoup\n",
    "import time\n",
    "import pandas\n",
    "import matplotlib.pyplot as plt"
   ]
  },
  {
   "cell_type": "code",
   "execution_count": 3,
   "id": "97fe4662",
   "metadata": {},
   "outputs": [],
   "source": [
    "# 台北市各地區代碼\n",
    "item={1:'Zhongshan',2:'Datong',3:'Zhongshan',4:'Songshan',5:'Da’an',6:'Wanhua',\n",
    "      7:'Xinyi',8:'Shilin',9:'Beitou',10:'Neihu',11:'Nangang',12:'Wenshan'}"
   ]
  },
  {
   "cell_type": "code",
   "execution_count": 5,
   "id": "523aeb97",
   "metadata": {},
   "outputs": [
    {
     "ename": "SessionNotCreatedException",
     "evalue": "Message: session not created: This version of ChromeDriver only supports Chrome version 100\nCurrent browser version is 102.0.5005.61 with binary path /Applications/Google Chrome.app/Contents/MacOS/Google Chrome\nStacktrace:\n0   chromedriver                        0x00000001012dbc34 chromedriver + 4406324\n1   chromedriver                        0x0000000101275290 chromedriver + 3986064\n2   chromedriver                        0x0000000100ed684c chromedriver + 190540\n3   chromedriver                        0x0000000100ef8200 chromedriver + 328192\n4   chromedriver                        0x0000000100ef4c48 chromedriver + 314440\n5   chromedriver                        0x0000000100ef1c30 chromedriver + 302128\n6   chromedriver                        0x0000000100f22db8 chromedriver + 503224\n7   chromedriver                        0x0000000100efa864 chromedriver + 338020\n8   chromedriver                        0x00000001012a1320 chromedriver + 4166432\n9   chromedriver                        0x00000001012b6748 chromedriver + 4253512\n10  chromedriver                        0x00000001012bacbc chromedriver + 4271292\n11  chromedriver                        0x00000001012b7004 chromedriver + 4255748\n12  chromedriver                        0x000000010129708c chromedriver + 4124812\n13  chromedriver                        0x00000001012cebf8 chromedriver + 4353016\n14  chromedriver                        0x00000001012ced5c chromedriver + 4353372\n15  chromedriver                        0x00000001012e2438 chromedriver + 4432952\n16  libsystem_pthread.dylib             0x000000019369a26c _pthread_start + 148\n17  libsystem_pthread.dylib             0x000000019369508c thread_start + 8\n",
     "output_type": "error",
     "traceback": [
      "\u001b[0;31m---------------------------------------------------------------------------\u001b[0m",
      "\u001b[0;31mSessionNotCreatedException\u001b[0m                Traceback (most recent call last)",
      "\u001b[0;32m/var/folders/hw/zh779xtd26z7k6xftw1w433m0000gn/T/ipykernel_1172/842233453.py\u001b[0m in \u001b[0;36m<module>\u001b[0;34m\u001b[0m\n\u001b[1;32m      5\u001b[0m \u001b[0;34m\u001b[0m\u001b[0m\n\u001b[1;32m      6\u001b[0m     \u001b[0ms\u001b[0m\u001b[0;34m=\u001b[0m\u001b[0mService\u001b[0m\u001b[0;34m(\u001b[0m\u001b[0;34mr'/Users/chenyaoxuan/Desktop/tools/chromedriver/chromedriver'\u001b[0m\u001b[0;34m)\u001b[0m\u001b[0;34m\u001b[0m\u001b[0;34m\u001b[0m\u001b[0m\n\u001b[0;32m----> 7\u001b[0;31m     \u001b[0mchrome\u001b[0m\u001b[0;34m=\u001b[0m\u001b[0mwebdriver\u001b[0m\u001b[0;34m.\u001b[0m\u001b[0mChrome\u001b[0m\u001b[0;34m(\u001b[0m\u001b[0mservice\u001b[0m\u001b[0;34m=\u001b[0m\u001b[0ms\u001b[0m\u001b[0;34m)\u001b[0m\u001b[0;34m\u001b[0m\u001b[0;34m\u001b[0m\u001b[0m\n\u001b[0m\u001b[1;32m      8\u001b[0m     \u001b[0mchrome\u001b[0m\u001b[0;34m.\u001b[0m\u001b[0mget\u001b[0m\u001b[0;34m(\u001b[0m\u001b[0murl\u001b[0m\u001b[0;34m)\u001b[0m\u001b[0;34m\u001b[0m\u001b[0;34m\u001b[0m\u001b[0m\n\u001b[1;32m      9\u001b[0m \u001b[0;34m\u001b[0m\u001b[0m\n",
      "\u001b[0;32m/opt/anaconda3/lib/python3.9/site-packages/selenium/webdriver/chrome/webdriver.py\u001b[0m in \u001b[0;36m__init__\u001b[0;34m(self, executable_path, port, options, service_args, desired_capabilities, service_log_path, chrome_options, service, keep_alive)\u001b[0m\n\u001b[1;32m     68\u001b[0m             \u001b[0mservice\u001b[0m \u001b[0;34m=\u001b[0m \u001b[0mService\u001b[0m\u001b[0;34m(\u001b[0m\u001b[0mexecutable_path\u001b[0m\u001b[0;34m,\u001b[0m \u001b[0mport\u001b[0m\u001b[0;34m,\u001b[0m \u001b[0mservice_args\u001b[0m\u001b[0;34m,\u001b[0m \u001b[0mservice_log_path\u001b[0m\u001b[0;34m)\u001b[0m\u001b[0;34m\u001b[0m\u001b[0;34m\u001b[0m\u001b[0m\n\u001b[1;32m     69\u001b[0m \u001b[0;34m\u001b[0m\u001b[0m\n\u001b[0;32m---> 70\u001b[0;31m         super(WebDriver, self).__init__(DesiredCapabilities.CHROME['browserName'], \"goog\",\n\u001b[0m\u001b[1;32m     71\u001b[0m                                         \u001b[0mport\u001b[0m\u001b[0;34m,\u001b[0m \u001b[0moptions\u001b[0m\u001b[0;34m,\u001b[0m\u001b[0;34m\u001b[0m\u001b[0;34m\u001b[0m\u001b[0m\n\u001b[1;32m     72\u001b[0m                                         \u001b[0mservice_args\u001b[0m\u001b[0;34m,\u001b[0m \u001b[0mdesired_capabilities\u001b[0m\u001b[0;34m,\u001b[0m\u001b[0;34m\u001b[0m\u001b[0;34m\u001b[0m\u001b[0m\n",
      "\u001b[0;32m/opt/anaconda3/lib/python3.9/site-packages/selenium/webdriver/chromium/webdriver.py\u001b[0m in \u001b[0;36m__init__\u001b[0;34m(self, browser_name, vendor_prefix, port, options, service_args, desired_capabilities, service_log_path, service, keep_alive)\u001b[0m\n\u001b[1;32m     91\u001b[0m \u001b[0;34m\u001b[0m\u001b[0m\n\u001b[1;32m     92\u001b[0m         \u001b[0;32mtry\u001b[0m\u001b[0;34m:\u001b[0m\u001b[0;34m\u001b[0m\u001b[0;34m\u001b[0m\u001b[0m\n\u001b[0;32m---> 93\u001b[0;31m             RemoteWebDriver.__init__(\n\u001b[0m\u001b[1;32m     94\u001b[0m                 \u001b[0mself\u001b[0m\u001b[0;34m,\u001b[0m\u001b[0;34m\u001b[0m\u001b[0;34m\u001b[0m\u001b[0m\n\u001b[1;32m     95\u001b[0m                 command_executor=ChromiumRemoteConnection(\n",
      "\u001b[0;32m/opt/anaconda3/lib/python3.9/site-packages/selenium/webdriver/remote/webdriver.py\u001b[0m in \u001b[0;36m__init__\u001b[0;34m(self, command_executor, desired_capabilities, browser_profile, proxy, keep_alive, file_detector, options)\u001b[0m\n\u001b[1;32m    267\u001b[0m         \u001b[0mself\u001b[0m\u001b[0;34m.\u001b[0m\u001b[0mfile_detector\u001b[0m \u001b[0;34m=\u001b[0m \u001b[0mfile_detector\u001b[0m \u001b[0;32mor\u001b[0m \u001b[0mLocalFileDetector\u001b[0m\u001b[0;34m(\u001b[0m\u001b[0;34m)\u001b[0m\u001b[0;34m\u001b[0m\u001b[0;34m\u001b[0m\u001b[0m\n\u001b[1;32m    268\u001b[0m         \u001b[0mself\u001b[0m\u001b[0;34m.\u001b[0m\u001b[0mstart_client\u001b[0m\u001b[0;34m(\u001b[0m\u001b[0;34m)\u001b[0m\u001b[0;34m\u001b[0m\u001b[0;34m\u001b[0m\u001b[0m\n\u001b[0;32m--> 269\u001b[0;31m         \u001b[0mself\u001b[0m\u001b[0;34m.\u001b[0m\u001b[0mstart_session\u001b[0m\u001b[0;34m(\u001b[0m\u001b[0mcapabilities\u001b[0m\u001b[0;34m,\u001b[0m \u001b[0mbrowser_profile\u001b[0m\u001b[0;34m)\u001b[0m\u001b[0;34m\u001b[0m\u001b[0;34m\u001b[0m\u001b[0m\n\u001b[0m\u001b[1;32m    270\u001b[0m \u001b[0;34m\u001b[0m\u001b[0m\n\u001b[1;32m    271\u001b[0m     \u001b[0;32mdef\u001b[0m \u001b[0m__repr__\u001b[0m\u001b[0;34m(\u001b[0m\u001b[0mself\u001b[0m\u001b[0;34m)\u001b[0m\u001b[0;34m:\u001b[0m\u001b[0;34m\u001b[0m\u001b[0;34m\u001b[0m\u001b[0m\n",
      "\u001b[0;32m/opt/anaconda3/lib/python3.9/site-packages/selenium/webdriver/remote/webdriver.py\u001b[0m in \u001b[0;36mstart_session\u001b[0;34m(self, capabilities, browser_profile)\u001b[0m\n\u001b[1;32m    358\u001b[0m         parameters = {\"capabilities\": w3c_caps,\n\u001b[1;32m    359\u001b[0m                       \"desiredCapabilities\": capabilities}\n\u001b[0;32m--> 360\u001b[0;31m         \u001b[0mresponse\u001b[0m \u001b[0;34m=\u001b[0m \u001b[0mself\u001b[0m\u001b[0;34m.\u001b[0m\u001b[0mexecute\u001b[0m\u001b[0;34m(\u001b[0m\u001b[0mCommand\u001b[0m\u001b[0;34m.\u001b[0m\u001b[0mNEW_SESSION\u001b[0m\u001b[0;34m,\u001b[0m \u001b[0mparameters\u001b[0m\u001b[0;34m)\u001b[0m\u001b[0;34m\u001b[0m\u001b[0;34m\u001b[0m\u001b[0m\n\u001b[0m\u001b[1;32m    361\u001b[0m         \u001b[0;32mif\u001b[0m \u001b[0;34m'sessionId'\u001b[0m \u001b[0;32mnot\u001b[0m \u001b[0;32min\u001b[0m \u001b[0mresponse\u001b[0m\u001b[0;34m:\u001b[0m\u001b[0;34m\u001b[0m\u001b[0;34m\u001b[0m\u001b[0m\n\u001b[1;32m    362\u001b[0m             \u001b[0mresponse\u001b[0m \u001b[0;34m=\u001b[0m \u001b[0mresponse\u001b[0m\u001b[0;34m[\u001b[0m\u001b[0;34m'value'\u001b[0m\u001b[0;34m]\u001b[0m\u001b[0;34m\u001b[0m\u001b[0;34m\u001b[0m\u001b[0m\n",
      "\u001b[0;32m/opt/anaconda3/lib/python3.9/site-packages/selenium/webdriver/remote/webdriver.py\u001b[0m in \u001b[0;36mexecute\u001b[0;34m(self, driver_command, params)\u001b[0m\n\u001b[1;32m    423\u001b[0m         \u001b[0mresponse\u001b[0m \u001b[0;34m=\u001b[0m \u001b[0mself\u001b[0m\u001b[0;34m.\u001b[0m\u001b[0mcommand_executor\u001b[0m\u001b[0;34m.\u001b[0m\u001b[0mexecute\u001b[0m\u001b[0;34m(\u001b[0m\u001b[0mdriver_command\u001b[0m\u001b[0;34m,\u001b[0m \u001b[0mparams\u001b[0m\u001b[0;34m)\u001b[0m\u001b[0;34m\u001b[0m\u001b[0;34m\u001b[0m\u001b[0m\n\u001b[1;32m    424\u001b[0m         \u001b[0;32mif\u001b[0m \u001b[0mresponse\u001b[0m\u001b[0;34m:\u001b[0m\u001b[0;34m\u001b[0m\u001b[0;34m\u001b[0m\u001b[0m\n\u001b[0;32m--> 425\u001b[0;31m             \u001b[0mself\u001b[0m\u001b[0;34m.\u001b[0m\u001b[0merror_handler\u001b[0m\u001b[0;34m.\u001b[0m\u001b[0mcheck_response\u001b[0m\u001b[0;34m(\u001b[0m\u001b[0mresponse\u001b[0m\u001b[0;34m)\u001b[0m\u001b[0;34m\u001b[0m\u001b[0;34m\u001b[0m\u001b[0m\n\u001b[0m\u001b[1;32m    426\u001b[0m             response['value'] = self._unwrap_value(\n\u001b[1;32m    427\u001b[0m                 response.get('value', None))\n",
      "\u001b[0;32m/opt/anaconda3/lib/python3.9/site-packages/selenium/webdriver/remote/errorhandler.py\u001b[0m in \u001b[0;36mcheck_response\u001b[0;34m(self, response)\u001b[0m\n\u001b[1;32m    245\u001b[0m                 \u001b[0malert_text\u001b[0m \u001b[0;34m=\u001b[0m \u001b[0mvalue\u001b[0m\u001b[0;34m[\u001b[0m\u001b[0;34m'alert'\u001b[0m\u001b[0;34m]\u001b[0m\u001b[0;34m.\u001b[0m\u001b[0mget\u001b[0m\u001b[0;34m(\u001b[0m\u001b[0;34m'text'\u001b[0m\u001b[0;34m)\u001b[0m\u001b[0;34m\u001b[0m\u001b[0;34m\u001b[0m\u001b[0m\n\u001b[1;32m    246\u001b[0m             \u001b[0;32mraise\u001b[0m \u001b[0mexception_class\u001b[0m\u001b[0;34m(\u001b[0m\u001b[0mmessage\u001b[0m\u001b[0;34m,\u001b[0m \u001b[0mscreen\u001b[0m\u001b[0;34m,\u001b[0m \u001b[0mstacktrace\u001b[0m\u001b[0;34m,\u001b[0m \u001b[0malert_text\u001b[0m\u001b[0;34m)\u001b[0m  \u001b[0;31m# type: ignore[call-arg]  # mypy is not smart enough here\u001b[0m\u001b[0;34m\u001b[0m\u001b[0;34m\u001b[0m\u001b[0m\n\u001b[0;32m--> 247\u001b[0;31m         \u001b[0;32mraise\u001b[0m \u001b[0mexception_class\u001b[0m\u001b[0;34m(\u001b[0m\u001b[0mmessage\u001b[0m\u001b[0;34m,\u001b[0m \u001b[0mscreen\u001b[0m\u001b[0;34m,\u001b[0m \u001b[0mstacktrace\u001b[0m\u001b[0;34m)\u001b[0m\u001b[0;34m\u001b[0m\u001b[0;34m\u001b[0m\u001b[0m\n\u001b[0m\u001b[1;32m    248\u001b[0m \u001b[0;34m\u001b[0m\u001b[0m\n\u001b[1;32m    249\u001b[0m     \u001b[0;32mdef\u001b[0m \u001b[0m_value_or_default\u001b[0m\u001b[0;34m(\u001b[0m\u001b[0mself\u001b[0m\u001b[0;34m,\u001b[0m \u001b[0mobj\u001b[0m\u001b[0;34m:\u001b[0m \u001b[0mMapping\u001b[0m\u001b[0;34m[\u001b[0m\u001b[0m_KT\u001b[0m\u001b[0;34m,\u001b[0m \u001b[0m_VT\u001b[0m\u001b[0;34m]\u001b[0m\u001b[0;34m,\u001b[0m \u001b[0mkey\u001b[0m\u001b[0;34m:\u001b[0m \u001b[0m_KT\u001b[0m\u001b[0;34m,\u001b[0m \u001b[0mdefault\u001b[0m\u001b[0;34m:\u001b[0m \u001b[0m_VT\u001b[0m\u001b[0;34m)\u001b[0m \u001b[0;34m->\u001b[0m \u001b[0m_VT\u001b[0m\u001b[0;34m:\u001b[0m\u001b[0;34m\u001b[0m\u001b[0;34m\u001b[0m\u001b[0m\n",
      "\u001b[0;31mSessionNotCreatedException\u001b[0m: Message: session not created: This version of ChromeDriver only supports Chrome version 100\nCurrent browser version is 102.0.5005.61 with binary path /Applications/Google Chrome.app/Contents/MacOS/Google Chrome\nStacktrace:\n0   chromedriver                        0x00000001012dbc34 chromedriver + 4406324\n1   chromedriver                        0x0000000101275290 chromedriver + 3986064\n2   chromedriver                        0x0000000100ed684c chromedriver + 190540\n3   chromedriver                        0x0000000100ef8200 chromedriver + 328192\n4   chromedriver                        0x0000000100ef4c48 chromedriver + 314440\n5   chromedriver                        0x0000000100ef1c30 chromedriver + 302128\n6   chromedriver                        0x0000000100f22db8 chromedriver + 503224\n7   chromedriver                        0x0000000100efa864 chromedriver + 338020\n8   chromedriver                        0x00000001012a1320 chromedriver + 4166432\n9   chromedriver                        0x00000001012b6748 chromedriver + 4253512\n10  chromedriver                        0x00000001012bacbc chromedriver + 4271292\n11  chromedriver                        0x00000001012b7004 chromedriver + 4255748\n12  chromedriver                        0x000000010129708c chromedriver + 4124812\n13  chromedriver                        0x00000001012cebf8 chromedriver + 4353016\n14  chromedriver                        0x00000001012ced5c chromedriver + 4353372\n15  chromedriver                        0x00000001012e2438 chromedriver + 4432952\n16  libsystem_pthread.dylib             0x000000019369a26c _pthread_start + 148\n17  libsystem_pthread.dylib             0x000000019369508c thread_start + 8\n"
     ]
    }
   ],
   "source": [
    "# 獲取台北市各地區新住宅頁數\n",
    "pages={}\n",
    "for i in range(12):\n",
    "    url=f'https://newhouse.591.com.tw/housing-list.html?rid=1&sid={i+1}'\n",
    "\n",
    "    s=Service(r'/Users/chenyaoxuan/Desktop/tools/chromedriver/chromedriver')\n",
    "    chrome=webdriver.Chrome(service=s)\n",
    "    chrome.get(url)\n",
    "\n",
    "    time.sleep(5)\n",
    "    soup=BeautifulSoup(chrome.page_source,'lxml')\n",
    "    page=soup.find('div',class_=\"page-limit page-housing\").find_all('a',class_=\"pageNum-form\")[-1].text\n",
    "    pages[i]=eval(page)\n",
    "    \n",
    "    chrome.quit()\n",
    "pages"
   ]
  },
  {
   "cell_type": "code",
   "execution_count": null,
   "id": "2f38cf8c",
   "metadata": {},
   "outputs": [],
   "source": [
    "# 抓取台北市各地區所有新住宅資料\n",
    "# 共計12區\n",
    "myData=[]\n",
    "for j in range(12):\n",
    "    totalPrice=0\n",
    "    count=0\n",
    "#     各地區總頁數\n",
    "    for k in range(pages[j]):\n",
    "        url=f'https://newhouse.591.com.tw/housing-list.html?rid=1&sid={j+1}&page={k+1}'\n",
    "\n",
    "        s=Service(r'/Users/chenyaoxuan/Desktop/chromedriver')\n",
    "        chrome=webdriver.Chrome(service=s)\n",
    "        chrome.get(url)\n",
    "\n",
    "        time.sleep(5)\n",
    "        soup=BeautifulSoup(chrome.page_source,'lxml')\n",
    "        datas=soup.find('div',id=\"vue-list\").find('ul',class_=\"clearfix\").find_all('li')\n",
    "#         該頁所有新住宅價位\n",
    "        for data in datas:\n",
    "            try:\n",
    "#                 過濾資料\n",
    "                if data.find('p',class_=\"averPrice\").find('span',class_=\"unite\").text[2]=='坪':\n",
    "                    price=eval(data.find('p',class_=\"averPrice\").find('em',class_=\"stonefont\").text[0:3].strip('.~'))\n",
    "                    totalPrice+=price\n",
    "                    count+=1\n",
    "#                     print(price,count)\n",
    "            except:\n",
    "                pass\n",
    "            finally:\n",
    "                chrome.quit()\n",
    "            \n",
    "    avgPrice=round(totalPrice/count,2)\n",
    "#     將資料寫入記憶體\n",
    "    myData.append([item[j+1],avgPrice])\n",
    "    print(f'{item[j+1]}平均房價為:{avgPrice}萬/坪')"
   ]
  },
  {
   "cell_type": "code",
   "execution_count": null,
   "id": "2b40bc1d",
   "metadata": {
    "scrolled": true
   },
   "outputs": [],
   "source": [
    "# 將記憶體資料匯成csv檔\n",
    "pandas.DataFrame(myData).to_csv('taipeiHousePrice.csv',encoding='utf-8-sig')"
   ]
  },
  {
   "cell_type": "code",
   "execution_count": null,
   "id": "4ce041a9",
   "metadata": {
    "scrolled": false
   },
   "outputs": [],
   "source": [
    "# 將記憶體資料視覺化\n",
    "plt.figure(figsize=(20,10))\n",
    "x=[]\n",
    "y=[]\n",
    "for xData in myData:\n",
    "    x.append(xData[0])\n",
    "for yData in myData:\n",
    "    y.append(yData[1])\n",
    "plt.title('taipeiHousePrice',fontsize=40)\n",
    "plt.xlabel('place',fontsize=40)\n",
    "plt.xticks(fontsize=20,rotation=45)\n",
    "plt.ylabel('price',fontsize=40)\n",
    "plt.yticks(fontsize=20)\n",
    "plt.bar(x,y)\n",
    "plt.show()\n",
    "# 將視覺化資料匯成png檔\n",
    "plt.savefig('taipeiHousePrice.png')"
   ]
  },
  {
   "cell_type": "markdown",
   "id": "f01d1c04",
   "metadata": {},
   "source": [
    "# test\n",
    "url='https://newhouse.591.com.tw/housing-list.html?rid=1&sid=1&page=1'\n",
    "\n",
    "s=Service(r'/Users/chenyaoxuan/Desktop/chromedriver')\n",
    "chrome=webdriver.Chrome(service=s)\n",
    "chrome.get(url)\n",
    "\n",
    "time.sleep(5)\n",
    "soup=BeautifulSoup(chrome.page_source,'lxml')\n",
    "datas=soup.find('div',id=\"vue-list\").find('ul',class_=\"clearfix\").find_all('li')\n",
    "datas"
   ]
  },
  {
   "cell_type": "code",
   "execution_count": null,
   "id": "11539efe",
   "metadata": {},
   "outputs": [],
   "source": []
  }
 ],
 "metadata": {
  "kernelspec": {
   "display_name": "Python 3 (ipykernel)",
   "language": "python",
   "name": "python3"
  },
  "language_info": {
   "codemirror_mode": {
    "name": "ipython",
    "version": 3
   },
   "file_extension": ".py",
   "mimetype": "text/x-python",
   "name": "python",
   "nbconvert_exporter": "python",
   "pygments_lexer": "ipython3",
   "version": "3.9.7"
  }
 },
 "nbformat": 4,
 "nbformat_minor": 5
}
